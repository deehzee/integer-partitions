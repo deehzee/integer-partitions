{
 "cells": [
  {
   "cell_type": "markdown",
   "metadata": {},
   "source": [
    "# Generating Partitions\n",
    "\n",
    "Python code for generating all integer partitions of a given integer $n > 0$\n",
    "using different algorithms. Let's define some terminology.\n",
    "\n",
    "**Integer partition:** An integer partition is a way to write a nonnegative integer $n$\n",
    "as sum of positive integers (note that the order of the summand doesn't matter). Therefore,\n",
    "3+2 and 2+3 are the same partitions of 5. The number of partition of $n$ is denoted by\n",
    "$p(n)$. The function $p(\\cdot)$ is called the _partition function_.\n",
    "\n",
    "Example: There are 7 partitions of 5. Therefore, $p(5) = 7$.\n",
    "\n",
    "\\begin{align}\n",
    "5 &= 1 + 1 + 1 + 1 + 1 \\\\\n",
    "  &= 2 + 1 + 1 + 1 \\\\\n",
    "  &= 2 + 2 + 1 \\\\\n",
    "  &= 3 + 1 + 1 \\\\\n",
    "  &= 3 + 2 \\\\\n",
    "  &= 4 + 1 \\\\\n",
    "  &= 5.\n",
    "\\end{align}\n",
    "\n",
    "**Ascending/Descending composition:** Partitions are represented as an ordered list of\n",
    "summands. Depending on whether they are ordered as weakly increasing or decreasing, it's\n",
    "called either an _ascending_ or _descending composition_.\n",
    "\n",
    "For example, `[2, 2, 1]` is a descending composition, whereas, `[1, 4]` is an ascending\n",
    "composition.\n",
    "\n",
    "**Ordering of the output:** An algorithm to generate all integer partitions may output the partition of the given input $n > 0$ in different order. Most commonly, they output the partitions as _lexicographically increasing_ or _decreasing_ order as list of summands.\n",
    "This is independent of whether partitions are represented as ascending or descending\n",
    "compositions."
   ]
  },
  {
   "cell_type": "code",
   "execution_count": 1,
   "metadata": {
    "collapsed": true
   },
   "outputs": [],
   "source": [
    "import partition"
   ]
  },
  {
   "cell_type": "code",
   "execution_count": 2,
   "metadata": {
    "collapsed": false
   },
   "outputs": [
    {
     "data": {
      "text/plain": [
       "['__builtins__',\n",
       " '__doc__',\n",
       " '__file__',\n",
       " '__name__',\n",
       " '__package__',\n",
       " 'accel_asc',\n",
       " 'accel_desc',\n",
       " 'merca1',\n",
       " 'merca2',\n",
       " 'merca3',\n",
       " 'rule_asc',\n",
       " 'rule_desc',\n",
       " 'zs1',\n",
       " 'zs2']"
      ]
     },
     "execution_count": 2,
     "metadata": {},
     "output_type": "execute_result"
    }
   ],
   "source": [
    "dir(partition)"
   ]
  },
  {
   "cell_type": "markdown",
   "metadata": {},
   "source": [
    "## ZS Algorithms (1998)\n",
    "\n",
    "See [Zoghbi-Stojmenovic-1998] for reference. There are two algorithms, `zs1` and `zs2`."
   ]
  },
  {
   "cell_type": "code",
   "execution_count": 3,
   "metadata": {
    "collapsed": true
   },
   "outputs": [],
   "source": [
    "def print_partitions(algo_name, n):\n",
    "    \"\"\"Print all integer partions of n using the given algorithm.\n",
    "    \n",
    "    Inputs:\n",
    "        n            A nonnegative integer\n",
    "        algo_name    The algorithm name (a string)\n",
    "    \"\"\"\n",
    "    method = getattr(partition, algo_name)\n",
    "    for p in method(n):\n",
    "        print p\n",
    "        \n",
    "def count_partitions(algo_name, n):\n",
    "    \"\"\"Count the number of all integer partitions of n using the given algorithm.\n",
    "\n",
    "    Inputs:\n",
    "        n            A nonnegative integer\n",
    "        algo_name    The algorithm name (a string)\n",
    "        \n",
    "    Returns:\n",
    "        The count, p(n) (integer or long).\n",
    "    \"\"\"\n",
    "    method = getattr(partition, algo_name)\n",
    "    count = 0\n",
    "    for p in method(n):\n",
    "        count += 1\n",
    "    return count\n",
    "\n",
    "# We will print partitions of a small number\n",
    "n = 5"
   ]
  },
  {
   "cell_type": "code",
   "execution_count": 4,
   "metadata": {
    "collapsed": false
   },
   "outputs": [
    {
     "name": "stdout",
     "output_type": "stream",
     "text": [
      "[5]\n",
      "[4, 1]\n",
      "[3, 2]\n",
      "[3, 1, 1]\n",
      "[2, 2, 1]\n",
      "[2, 1, 1, 1]\n",
      "[1, 1, 1, 1, 1]\n"
     ]
    }
   ],
   "source": [
    "print_partitions('zs1', n)"
   ]
  },
  {
   "cell_type": "markdown",
   "metadata": {},
   "source": [
    "As we can see, `zs1` outputs partitions as descending compositions in lexicographically decreasing order."
   ]
  },
  {
   "cell_type": "code",
   "execution_count": 5,
   "metadata": {
    "collapsed": false
   },
   "outputs": [
    {
     "name": "stdout",
     "output_type": "stream",
     "text": [
      "[1, 1, 1, 1, 1]\n",
      "[2, 1, 1, 1]\n",
      "[2, 2, 1]\n",
      "[3, 1, 1]\n",
      "[3, 2]\n",
      "[4, 1]\n",
      "[5]\n"
     ]
    }
   ],
   "source": [
    "print_partitions('zs2', n)"
   ]
  },
  {
   "cell_type": "markdown",
   "metadata": {},
   "source": [
    "`zs2` generates partitions as descending compositions, but in lexicographically increasing order.\n",
    "\n",
    "Now let's compare the time to generate partiton of a large number (say N = 50). We won't print out the partitions, only count them.\n",
    "\n",
    "Notice that the pure python implementation is much slower than the C implementation.\n",
    "\n",
    "**TODO:** Later I will wrap the C program as a python module. Or, try other optimizations."
   ]
  },
  {
   "cell_type": "code",
   "execution_count": 6,
   "metadata": {
    "collapsed": false
   },
   "outputs": [
    {
     "name": "stdout",
     "output_type": "stream",
     "text": [
      "10 loops, best of 3: 124 ms per loop\n",
      "204226\n"
     ]
    }
   ],
   "source": [
    "# Define ans in the global scope:\n",
    "ans = 0\n",
    "\n",
    "# Moderately large number to test\n",
    "N = 50\n",
    "\n",
    "# It may take a long time\n",
    "%timeit global ans; ans = count_partitions('zs1', N)\n",
    "print ans"
   ]
  },
  {
   "cell_type": "code",
   "execution_count": 7,
   "metadata": {
    "collapsed": false
   },
   "outputs": [
    {
     "name": "stdout",
     "output_type": "stream",
     "text": [
      "10 loops, best of 3: 161 ms per loop\n",
      "204226\n"
     ]
    }
   ],
   "source": [
    "%timeit global ans; ans = count_partitions('zs2', N)\n",
    "print ans"
   ]
  },
  {
   "cell_type": "markdown",
   "metadata": {},
   "source": [
    "## Kelleher's Algorithms (2006)\n",
    "\n",
    "See [Kelleher-2006] for reference.  There are four algorithms: `rule_desc`, `rule_asc`, `accel_desc` and `accel_desc`."
   ]
  },
  {
   "cell_type": "code",
   "execution_count": 8,
   "metadata": {
    "collapsed": false
   },
   "outputs": [
    {
     "name": "stdout",
     "output_type": "stream",
     "text": [
      "[5]\n",
      "[4, 1]\n",
      "[3, 2]\n",
      "[3, 1, 1]\n",
      "[2, 2, 1]\n",
      "[2, 1, 1, 1]\n",
      "[1, 1, 1, 1, 1]\n"
     ]
    }
   ],
   "source": [
    "print_partitions('rule_desc', n)"
   ]
  },
  {
   "cell_type": "markdown",
   "metadata": {},
   "source": [
    "The `rule_desc` algorithm generates partitions as descending compositions, in lexicographically decreasing order."
   ]
  },
  {
   "cell_type": "code",
   "execution_count": 9,
   "metadata": {
    "collapsed": false
   },
   "outputs": [
    {
     "name": "stdout",
     "output_type": "stream",
     "text": [
      "[1, 1, 1, 1, 1]\n",
      "[1, 1, 1, 2]\n",
      "[1, 1, 3]\n",
      "[1, 2, 2]\n",
      "[1, 4]\n",
      "[2, 3]\n",
      "[5]\n"
     ]
    }
   ],
   "source": [
    "print_partitions('rule_asc', n)"
   ]
  },
  {
   "cell_type": "markdown",
   "metadata": {},
   "source": [
    "The `rule_asc` algorithm generates partitions as ascending compositions, in lexicographically increasing order."
   ]
  },
  {
   "cell_type": "code",
   "execution_count": 10,
   "metadata": {
    "collapsed": false
   },
   "outputs": [
    {
     "name": "stdout",
     "output_type": "stream",
     "text": [
      "[5]\n",
      "[4, 1]\n",
      "[3, 2]\n",
      "[3, 1, 1]\n",
      "[2, 2, 1]\n",
      "[2, 1, 1, 1]\n",
      "[1, 1, 1, 1, 1]\n"
     ]
    }
   ],
   "source": [
    "print_partitions('accel_desc', n)"
   ]
  },
  {
   "cell_type": "code",
   "execution_count": 11,
   "metadata": {
    "collapsed": false
   },
   "outputs": [
    {
     "name": "stdout",
     "output_type": "stream",
     "text": [
      "[1, 1, 1, 1, 1]\n",
      "[1, 1, 1, 2]\n",
      "[1, 1, 3]\n",
      "[1, 2, 2]\n",
      "[1, 4]\n",
      "[2, 3]\n",
      "[5]\n"
     ]
    }
   ],
   "source": [
    "print_partitions('accel_asc', n)"
   ]
  },
  {
   "cell_type": "markdown",
   "metadata": {},
   "source": [
    "The algorithms `accel_desc` and `accel_asc` are faster versions of `rule_desc` and `rule_asc` respectively.\n",
    "\n",
    "Now, let's compare the speed."
   ]
  },
  {
   "cell_type": "code",
   "execution_count": 12,
   "metadata": {
    "collapsed": false
   },
   "outputs": [
    {
     "name": "stdout",
     "output_type": "stream",
     "text": [
      "1 loop, best of 3: 374 ms per loop\n",
      "204226\n"
     ]
    }
   ],
   "source": [
    "%timeit global ans; ans = count_partitions('rule_desc', N)\n",
    "print ans"
   ]
  },
  {
   "cell_type": "code",
   "execution_count": 13,
   "metadata": {
    "collapsed": false
   },
   "outputs": [
    {
     "name": "stdout",
     "output_type": "stream",
     "text": [
      "10 loops, best of 3: 159 ms per loop\n",
      "204226\n"
     ]
    }
   ],
   "source": [
    "%timeit global ans; ans = count_partitions('rule_asc', N)\n",
    "print ans"
   ]
  },
  {
   "cell_type": "code",
   "execution_count": 14,
   "metadata": {
    "collapsed": false
   },
   "outputs": [
    {
     "name": "stdout",
     "output_type": "stream",
     "text": [
      "10 loops, best of 3: 126 ms per loop\n",
      "204226\n"
     ]
    }
   ],
   "source": [
    "%timeit global ans; ans = count_partitions('accel_desc', N)\n",
    "print ans"
   ]
  },
  {
   "cell_type": "code",
   "execution_count": 15,
   "metadata": {
    "collapsed": false
   },
   "outputs": [
    {
     "name": "stdout",
     "output_type": "stream",
     "text": [
      "10 loops, best of 3: 124 ms per loop\n",
      "204226\n"
     ]
    }
   ],
   "source": [
    "%timeit global ans; ans = count_partitions('accel_asc', N)\n",
    "print ans"
   ]
  },
  {
   "cell_type": "markdown",
   "metadata": {},
   "source": [
    "## Merca's Algorithms\n",
    "\n",
    "See [Merca-2012] for reference. There are three algorithms in this family: `merca1`, `merca2` and `merca3` -- all generates partitions as ascending compositions and in lexicographically increasing order."
   ]
  },
  {
   "cell_type": "code",
   "execution_count": 16,
   "metadata": {
    "collapsed": false
   },
   "outputs": [
    {
     "name": "stdout",
     "output_type": "stream",
     "text": [
      "[1, 1, 1, 1, 1]\n",
      "[1, 1, 1, 2]\n",
      "[1, 1, 3]\n",
      "[1, 2, 2]\n",
      "[1, 4]\n",
      "[2, 3]\n",
      "[5]\n"
     ]
    }
   ],
   "source": [
    "print_partitions('merca1', n)"
   ]
  },
  {
   "cell_type": "code",
   "execution_count": 17,
   "metadata": {
    "collapsed": false
   },
   "outputs": [
    {
     "name": "stdout",
     "output_type": "stream",
     "text": [
      "[1, 1, 1, 1, 1]\n",
      "[1, 1, 1, 2]\n",
      "[1, 1, 3]\n",
      "[1, 2, 2]\n",
      "[1, 4]\n",
      "[2, 3]\n",
      "[5]\n"
     ]
    }
   ],
   "source": [
    "print_partitions('merca2', n)"
   ]
  },
  {
   "cell_type": "code",
   "execution_count": 18,
   "metadata": {
    "collapsed": false
   },
   "outputs": [
    {
     "name": "stdout",
     "output_type": "stream",
     "text": [
      "[1, 1, 1, 1, 1]\n",
      "[1, 1, 1, 2]\n",
      "[1, 1, 3]\n",
      "[1, 2, 2]\n",
      "[1, 4]\n",
      "[2, 3]\n",
      "[5]\n"
     ]
    }
   ],
   "source": [
    "print_partitions('merca3', n)"
   ]
  },
  {
   "cell_type": "code",
   "execution_count": 19,
   "metadata": {
    "collapsed": false
   },
   "outputs": [
    {
     "name": "stdout",
     "output_type": "stream",
     "text": [
      "1 loop, best of 3: 141 ms per loop\n",
      "204226\n"
     ]
    }
   ],
   "source": [
    "%timeit global ans; ans = count_partitions('merca1', N)\n",
    "print ans"
   ]
  },
  {
   "cell_type": "code",
   "execution_count": 20,
   "metadata": {
    "collapsed": false
   },
   "outputs": [
    {
     "name": "stdout",
     "output_type": "stream",
     "text": [
      "10 loops, best of 3: 122 ms per loop\n",
      "204226\n"
     ]
    }
   ],
   "source": [
    "%timeit global ans; ans = count_partitions('merca2', N)\n",
    "print ans"
   ]
  },
  {
   "cell_type": "code",
   "execution_count": 21,
   "metadata": {
    "collapsed": false
   },
   "outputs": [
    {
     "name": "stdout",
     "output_type": "stream",
     "text": [
      "10 loops, best of 3: 112 ms per loop\n",
      "204226\n"
     ]
    }
   ],
   "source": [
    "%timeit global ans; ans = count_partitions('merca3', N)\n",
    "print ans"
   ]
  },
  {
   "cell_type": "code",
   "execution_count": null,
   "metadata": {
    "collapsed": true
   },
   "outputs": [],
   "source": []
  }
 ],
 "metadata": {
  "anaconda-cloud": {},
  "kernelspec": {
   "display_name": "Python [default]",
   "language": "python",
   "name": "python2"
  },
  "language_info": {
   "codemirror_mode": {
    "name": "ipython",
    "version": 2
   },
   "file_extension": ".py",
   "mimetype": "text/x-python",
   "name": "python",
   "nbconvert_exporter": "python",
   "pygments_lexer": "ipython2",
   "version": "2.7.12"
  }
 },
 "nbformat": 4,
 "nbformat_minor": 1
}
